{
 "cells": [
  {
   "cell_type": "code",
   "execution_count": 1,
   "id": "29f2e599",
   "metadata": {},
   "outputs": [
    {
     "name": "stdout",
     "output_type": "stream",
     "text": [
      "111\n"
     ]
    }
   ],
   "source": [
    "import xarray as xr\n",
    "import glob\n",
    "flist = glob.glob(r\"C:/crs/proj/2021_Outer_Cape_Bars/CapeCod*.nc\")\n",
    "print(len(flist))"
   ]
  },
  {
   "cell_type": "code",
   "execution_count": 2,
   "id": "1bd9718d",
   "metadata": {},
   "outputs": [
    {
     "data": {
      "text/html": [
       "<pre>&lt;xarray.Dataset&gt;\n",
       "Dimensions:      (alongshore: 21617)\n",
       "Coordinates:\n",
       "  * alongshore   (alongshore) float64 2.402e+03 2.404e+03 ... 4.573e+04\n",
       "Data variables:\n",
       "    lat          (alongshore) float64 ...\n",
       "    lon          (alongshore) float64 ...\n",
       "    slope        (alongshore) float64 ...\n",
       "    uncertainty  (alongshore) float64 ...\n",
       "Attributes:\n",
       "    Title:                      Cape Cod Mean High Water (MHW) Shoreline\n",
       "    File_name:                  CapeCodShoreline19980508.nc\n",
       "    Data_description_1:         Data were collected with the SWASH system, a ...\n",
       "    Data_description_2:         This system was used to collect high-accuracy...\n",
       "    Data_description_3:         The data were processed to compute shoreline ...\n",
       "    Data_description_4:         See details here: https://doi.org/10.1016/j.m...\n",
       "    Date_of_data_collection:    08-May-1998\n",
       "    Date_of_file_creation:      12-Jun-2020\n",
       "    Mean_high_water_elevation:  0.92 meters\n",
       "    Coordinate_system:          Geographic, WGS84\n",
       "    Vertical_datum:             NAVD88\n",
       "    Geoid:                      Geoid96 and Geoid99 (when it became available)\n",
       "    Conventions:                CF-1.0</pre>"
      ],
      "text/plain": [
       "<xarray.Dataset>\n",
       "Dimensions:      (alongshore: 21617)\n",
       "Coordinates:\n",
       "  * alongshore   (alongshore) float64 2.402e+03 2.404e+03 ... 4.573e+04\n",
       "Data variables:\n",
       "    lat          (alongshore) float64 ...\n",
       "    lon          (alongshore) float64 ...\n",
       "    slope        (alongshore) float64 ...\n",
       "    uncertainty  (alongshore) float64 ...\n",
       "Attributes:\n",
       "    Title:                      Cape Cod Mean High Water (MHW) Shoreline\n",
       "    File_name:                  CapeCodShoreline19980508.nc\n",
       "    Data_description_1:         Data were collected with the SWASH system, a ...\n",
       "    Data_description_2:         This system was used to collect high-accuracy...\n",
       "    Data_description_3:         The data were processed to compute shoreline ...\n",
       "    Data_description_4:         See details here: https://doi.org/10.1016/j.m...\n",
       "    Date_of_data_collection:    08-May-1998\n",
       "    Date_of_file_creation:      12-Jun-2020\n",
       "    Mean_high_water_elevation:  0.92 meters\n",
       "    Coordinate_system:          Geographic, WGS84\n",
       "    Vertical_datum:             NAVD88\n",
       "    Geoid:                      Geoid96 and Geoid99 (when it became available)\n",
       "    Conventions:                CF-1.0"
      ]
     },
     "execution_count": 2,
     "metadata": {},
     "output_type": "execute_result"
    }
   ],
   "source": [
    "ds = xr.open_dataset(flist[1])\n",
    "ds"
   ]
  },
  {
   "cell_type": "code",
   "execution_count": 3,
   "id": "c98f20bd",
   "metadata": {},
   "outputs": [
    {
     "name": "stderr",
     "output_type": "stream",
     "text": [
      "C:\\Users\\csherwood\\AppData\\Local\\Continuum\\miniconda3\\envs\\CRS\\lib\\site-packages\\ipykernel_launcher.py:1: FutureWarning: In xarray version 0.15 the default behaviour of `open_mfdataset`\n",
      "will change. To retain the existing behavior, pass\n",
      "combine='nested'. To use future default behavior, pass\n",
      "combine='by_coords'. See\n",
      "http://xarray.pydata.org/en/stable/combining.html#combining-multi\n",
      "\n",
      "  \"\"\"Entry point for launching an IPython kernel.\n",
      "C:\\Users\\csherwood\\AppData\\Local\\Continuum\\miniconda3\\envs\\CRS\\lib\\site-packages\\xarray\\backends\\api.py:941: FutureWarning: The datasets supplied have global dimension coordinates. You may want\n",
      "to use the new `combine_by_coords` function (or the\n",
      "`combine='by_coords'` option to `open_mfdataset`) to order the datasets\n",
      "before concatenation. Alternatively, to continue concatenating based\n",
      "on the order the datasets are supplied in future, please use the new\n",
      "`combine_nested` function (or the `combine='nested'` option to\n",
      "open_mfdataset).\n",
      "  from_openmfds=True,\n"
     ]
    },
    {
     "data": {
      "text/html": [
       "<pre>&lt;xarray.Dataset&gt;\n",
       "Dimensions:      (alongshore: 2341456)\n",
       "Coordinates:\n",
       "  * alongshore   (alongshore) float64 3.074e+03 3.076e+03 ... 4.46e+04 4.46e+04\n",
       "Data variables:\n",
       "    lat          (alongshore) float64 dask.array&lt;chunksize=(19495,), meta=np.ndarray&gt;\n",
       "    lon          (alongshore) float64 dask.array&lt;chunksize=(19495,), meta=np.ndarray&gt;\n",
       "    slope        (alongshore) float64 dask.array&lt;chunksize=(19495,), meta=np.ndarray&gt;\n",
       "    uncertainty  (alongshore) float64 dask.array&lt;chunksize=(19495,), meta=np.ndarray&gt;\n",
       "Attributes:\n",
       "    Title:                      Cape Cod Mean High Water (MHW) Shoreline\n",
       "    File_name:                  CapeCodShoreline19980414.nc\n",
       "    Data_description_1:         Data were collected with the SWASH system, a ...\n",
       "    Data_description_2:         This system was used to collect high-accuracy...\n",
       "    Data_description_3:         The data were processed to compute shoreline ...\n",
       "    Data_description_4:         See details here: https://doi.org/10.1016/j.m...\n",
       "    Date_of_data_collection:    14-Apr-1998\n",
       "    Date_of_file_creation:      12-Jun-2020\n",
       "    Mean_high_water_elevation:  0.92 meters\n",
       "    Coordinate_system:          Geographic, WGS84\n",
       "    Vertical_datum:             NAVD88\n",
       "    Geoid:                      Geoid96 and Geoid99 (when it became available)\n",
       "    Conventions:                CF-1.0</pre>"
      ],
      "text/plain": [
       "<xarray.Dataset>\n",
       "Dimensions:      (alongshore: 2341456)\n",
       "Coordinates:\n",
       "  * alongshore   (alongshore) float64 3.074e+03 3.076e+03 ... 4.46e+04 4.46e+04\n",
       "Data variables:\n",
       "    lat          (alongshore) float64 dask.array<chunksize=(19495,), meta=np.ndarray>\n",
       "    lon          (alongshore) float64 dask.array<chunksize=(19495,), meta=np.ndarray>\n",
       "    slope        (alongshore) float64 dask.array<chunksize=(19495,), meta=np.ndarray>\n",
       "    uncertainty  (alongshore) float64 dask.array<chunksize=(19495,), meta=np.ndarray>\n",
       "Attributes:\n",
       "    Title:                      Cape Cod Mean High Water (MHW) Shoreline\n",
       "    File_name:                  CapeCodShoreline19980414.nc\n",
       "    Data_description_1:         Data were collected with the SWASH system, a ...\n",
       "    Data_description_2:         This system was used to collect high-accuracy...\n",
       "    Data_description_3:         The data were processed to compute shoreline ...\n",
       "    Data_description_4:         See details here: https://doi.org/10.1016/j.m...\n",
       "    Date_of_data_collection:    14-Apr-1998\n",
       "    Date_of_file_creation:      12-Jun-2020\n",
       "    Mean_high_water_elevation:  0.92 meters\n",
       "    Coordinate_system:          Geographic, WGS84\n",
       "    Vertical_datum:             NAVD88\n",
       "    Geoid:                      Geoid96 and Geoid99 (when it became available)\n",
       "    Conventions:                CF-1.0"
      ]
     },
     "execution_count": 3,
     "metadata": {},
     "output_type": "execute_result"
    }
   ],
   "source": [
    "xr.open_mfdataset(r\"C:/crs/proj/2021_Outer_Cape_Bars/CapeCod*.nc\", parallel=True)"
   ]
  }
 ],
 "metadata": {
  "kernelspec": {
   "display_name": "Python 3 (ipykernel)",
   "language": "python",
   "name": "python3"
  },
  "language_info": {
   "codemirror_mode": {
    "name": "ipython",
    "version": 3
   },
   "file_extension": ".py",
   "mimetype": "text/x-python",
   "name": "python",
   "nbconvert_exporter": "python",
   "pygments_lexer": "ipython3",
   "version": "3.7.6"
  }
 },
 "nbformat": 4,
 "nbformat_minor": 5
}
